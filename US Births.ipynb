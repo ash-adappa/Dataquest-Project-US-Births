{
 "cells": [
  {
   "cell_type": "code",
   "execution_count": 1,
   "metadata": {
    "collapsed": false
   },
   "outputs": [
    {
     "name": "stdout",
     "output_type": "stream",
     "text": [
      "['year,month,date_of_month,day_of_week,births', '1994,1,1,6,8096', '1994,1,2,7,7772', '1994,1,3,1,10142', '1994,1,4,2,11248', '1994,1,5,3,11053', '1994,1,6,4,11406', '1994,1,7,5,11251', '1994,1,8,6,8653', '1994,1,9,7,7910']\n"
     ]
    }
   ],
   "source": [
    "f = open(\"US_births_1994-2003_CDC_NCHS.csv\",'r')\n",
    "text = f.read()\n",
    "text = text.split('\\n')\n",
    "print(text[:10])"
   ]
  },
  {
   "cell_type": "code",
   "execution_count": 2,
   "metadata": {
    "collapsed": true
   },
   "outputs": [],
   "source": [
    "def read_csv(text):\n",
    "    wrap = open(text,'r')\n",
    "    data = wrap.read()\n",
    "    data = data.split('\\n')\n",
    "    head = data[0]\n",
    "    string_list = data[1:]\n",
    "    final_list = list()\n",
    "    for row in string_list:\n",
    "        string_fields = row.split(',')\n",
    "        int_fields = [int(x) for x in string_fields]\n",
    "        final_list.append(int_fields)\n",
    "    return final_list    "
   ]
  },
  {
   "cell_type": "code",
   "execution_count": 3,
   "metadata": {
    "collapsed": false
   },
   "outputs": [
    {
     "data": {
      "text/plain": [
       "[[1994, 1, 1, 6, 8096],\n",
       " [1994, 1, 2, 7, 7772],\n",
       " [1994, 1, 3, 1, 10142],\n",
       " [1994, 1, 4, 2, 11248],\n",
       " [1994, 1, 5, 3, 11053],\n",
       " [1994, 1, 6, 4, 11406],\n",
       " [1994, 1, 7, 5, 11251],\n",
       " [1994, 1, 8, 6, 8653],\n",
       " [1994, 1, 9, 7, 7910],\n",
       " [1994, 1, 10, 1, 10498]]"
      ]
     },
     "execution_count": 3,
     "metadata": {},
     "output_type": "execute_result"
    }
   ],
   "source": [
    "cdc_list = read_csv(\"US_births_1994-2003_CDC_NCHS.csv\")\n",
    "cdc_list[:10]"
   ]
  },
  {
   "cell_type": "code",
   "execution_count": 11,
   "metadata": {
    "collapsed": true
   },
   "outputs": [],
   "source": [
    "def month_births(lol):\n",
    "    births_per_month = {}\n",
    "    for l in lol:\n",
    "        if l[1] in births_per_month.keys():\n",
    "            births_per_month[l[1]] += int(l[4])\n",
    "        else:\n",
    "            births_per_month[l[1]] = int(l[4])\n",
    "    return births_per_month"
   ]
  },
  {
   "cell_type": "code",
   "execution_count": 5,
   "metadata": {
    "collapsed": false
   },
   "outputs": [
    {
     "data": {
      "text/plain": [
       "{1: 3232517,\n",
       " 2: 3018140,\n",
       " 3: 3322069,\n",
       " 4: 3185314,\n",
       " 5: 3350907,\n",
       " 6: 3296530,\n",
       " 7: 3498783,\n",
       " 8: 3525858,\n",
       " 9: 3439698,\n",
       " 10: 3378814,\n",
       " 11: 3171647,\n",
       " 12: 3301860}"
      ]
     },
     "execution_count": 5,
     "metadata": {},
     "output_type": "execute_result"
    }
   ],
   "source": [
    "cdc_month_births = month_births(cdc_list)\n",
    "cdc_month_births"
   ]
  },
  {
   "cell_type": "code",
   "execution_count": 12,
   "metadata": {
    "collapsed": true
   },
   "outputs": [],
   "source": [
    "def dow_births(lol):\n",
    "    dow_births_dict = {}\n",
    "    for l in l_o_l:\n",
    "        if l[3] in dow_births_dict.keys():\n",
    "            dow_births_dict[l[3]] += int(l[4])\n",
    "        else:\n",
    "            dow_births_dict[l[3]] = int(l[4])\n",
    "    return dow_births_dict"
   ]
  },
  {
   "cell_type": "code",
   "execution_count": 10,
   "metadata": {
    "collapsed": false
   },
   "outputs": [
    {
     "data": {
      "text/plain": [
       "{1: 5789166,\n",
       " 2: 6446196,\n",
       " 3: 6322855,\n",
       " 4: 6288429,\n",
       " 5: 6233657,\n",
       " 6: 4562111,\n",
       " 7: 4079723}"
      ]
     },
     "execution_count": 10,
     "metadata": {},
     "output_type": "execute_result"
    }
   ],
   "source": [
    "cdc_day_births = dow_births(cdc_list)\n",
    "cdc_day_births"
   ]
  },
  {
   "cell_type": "code",
   "execution_count": 13,
   "metadata": {
    "collapsed": true
   },
   "outputs": [],
   "source": [
    "def calc_counts(lol,col):\n",
    "    col_count = {}\n",
    "    for l in lol:\n",
    "        if l[col - 1] in col_count.keys():\n",
    "            col_count[l[col - 1]] += int(l[4])\n",
    "        else:\n",
    "            col_count[l[col - 1]] = int(l[4])\n",
    "    return col_count"
   ]
  },
  {
   "cell_type": "code",
   "execution_count": 14,
   "metadata": {
    "collapsed": true
   },
   "outputs": [],
   "source": [
    "cdc_year_births = calc_counts(cdc_list,1)\n",
    "cdc_month_births = calc_counts(cdc_list,2)\n",
    "cdc_dom_births = calc_counts(cdc_list,3)\n",
    "cdc_dow_births = calc_counts(cdc_list,4)"
   ]
  },
  {
   "cell_type": "code",
   "execution_count": 15,
   "metadata": {
    "collapsed": true
   },
   "outputs": [],
   "source": [
    "def extreme(dic):\n",
    "    mini = min(dic.values())\n",
    "    maxi = max(dic.values())\n",
    "    ext = [mini, maxi]\n",
    "    return ext"
   ]
  },
  {
   "cell_type": "code",
   "execution_count": 16,
   "metadata": {
    "collapsed": false
   },
   "outputs": [
    {
     "name": "stdout",
     "output_type": "stream",
     "text": [
      "[3880894, 4089950]\n"
     ]
    }
   ],
   "source": [
    "print(extreme(cdc_year_births))"
   ]
  },
  {
   "cell_type": "code",
   "execution_count": 36,
   "metadata": {
    "collapsed": true
   },
   "outputs": [],
   "source": [
    "def growth_year(lol,col,colvalue):\n",
    "    c = list()\n",
    "    for year in range(1994,2004,1):\n",
    "        rows_by_year = []\n",
    "        for l in lol:\n",
    "            if l[0] == year:\n",
    "                rows_by_year.append(l)\n",
    "        c.append(calc_counts(rows_by_year,col))\n",
    "        if year == 1994 or year == 2003:\n",
    "            continue\n",
    "        else:\n",
    "            dict_1 = c[year - 1994]\n",
    "            dict_2 = c[year - 1995]\n",
    "            growth = dict_1[colvalue] - dict_2[colvalue] \n",
    "            print(str(year-1) + ' - ' + str(year) + ': ' + str(growth))"
   ]
  },
  {
   "cell_type": "code",
   "execution_count": 39,
   "metadata": {
    "collapsed": false
   },
   "outputs": [
    {
     "name": "stdout",
     "output_type": "stream",
     "text": [
      "1994 - 1995: 4387\n",
      "1995 - 1996: -5620\n",
      "1996 - 1997: -3392\n",
      "1997 - 1998: 6452\n",
      "1998 - 1999: -5418\n",
      "1999 - 2000: 10606\n",
      "2000 - 2001: 1289\n",
      "2001 - 2002: -6887\n"
     ]
    }
   ],
   "source": [
    "growth_year(cdc_list,3,6)"
   ]
  },
 ],
 "metadata": {
  "anaconda-cloud": {},
  "kernelspec": {
   "display_name": "Python 3",
   "language": "python",
   "name": "python3"
  },
  "language_info": {
   "codemirror_mode": {
    "name": "ipython",
    "version": 3
   },
   "file_extension": ".py",
   "mimetype": "text/x-python",
   "name": "python",
   "nbconvert_exporter": "python",
   "pygments_lexer": "ipython3",
   "version": "3.4.3"
  }
 },
 "nbformat": 4,
 "nbformat_minor": 1
}
